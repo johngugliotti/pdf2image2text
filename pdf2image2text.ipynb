{
 "cells": [
  {
   "cell_type": "code",
   "execution_count": 3,
   "id": "93087886-d8d4-4a19-a1f5-033238cdb2ba",
   "metadata": {},
   "outputs": [
    {
     "ename": "FileNotFoundError",
     "evalue": "[Errno 2] No such file or directory: '/Users/johngugliotti/Documents/dev/kresearch/dhs/lexicon-transform/scripts/png_1/dhslexicon_page_85.png'",
     "output_type": "error",
     "traceback": [
      "\u001b[0;31m---------------------------------------------------------------------------\u001b[0m",
      "\u001b[0;31mFileNotFoundError\u001b[0m                         Traceback (most recent call last)",
      "Cell \u001b[0;32mIn[3], line 7\u001b[0m\n\u001b[1;32m      5\u001b[0m \u001b[38;5;28;01mif\u001b[39;00m i \u001b[38;5;241m<\u001b[39m \u001b[38;5;241m85\u001b[39m: \u001b[38;5;28;01mcontinue\u001b[39;00m\n\u001b[1;32m      6\u001b[0m \u001b[38;5;28;01melif\u001b[39;00m \u001b[38;5;241m85\u001b[39m \u001b[38;5;241m<\u001b[39m\u001b[38;5;241m=\u001b[39m i \u001b[38;5;129;01mand\u001b[39;00m i \u001b[38;5;241m<\u001b[39m\u001b[38;5;241m=\u001b[39m \u001b[38;5;241m88\u001b[39m: \n\u001b[0;32m----> 7\u001b[0m \timage\u001b[38;5;241m.\u001b[39msave(\u001b[38;5;124mf\u001b[39m\u001b[38;5;124m\"\u001b[39m\u001b[38;5;124mpng_1/dhslexicon_page_\u001b[39m\u001b[38;5;132;01m{\u001b[39;00mi\u001b[38;5;132;01m}\u001b[39;00m\u001b[38;5;124m.png\u001b[39m\u001b[38;5;124m\"\u001b[39m,\u001b[38;5;124m\"\u001b[39m\u001b[38;5;124mPNG\u001b[39m\u001b[38;5;124m\"\u001b[39m)\n\u001b[1;32m      8\u001b[0m \u001b[38;5;28;01melse\u001b[39;00m:\n\u001b[1;32m      9\u001b[0m     \u001b[38;5;28;01mbreak\u001b[39;00m\n",
      "File \u001b[0;32m~/opt/anaconda3/envs/py311/lib/python3.11/site-packages/PIL/Image.py:2600\u001b[0m, in \u001b[0;36mImage.save\u001b[0;34m(self, fp, format, **params)\u001b[0m\n\u001b[1;32m   2598\u001b[0m         fp \u001b[38;5;241m=\u001b[39m builtins\u001b[38;5;241m.\u001b[39mopen(filename, \u001b[38;5;124m\"\u001b[39m\u001b[38;5;124mr+b\u001b[39m\u001b[38;5;124m\"\u001b[39m)\n\u001b[1;32m   2599\u001b[0m     \u001b[38;5;28;01melse\u001b[39;00m:\n\u001b[0;32m-> 2600\u001b[0m         fp \u001b[38;5;241m=\u001b[39m builtins\u001b[38;5;241m.\u001b[39mopen(filename, \u001b[38;5;124m\"\u001b[39m\u001b[38;5;124mw+b\u001b[39m\u001b[38;5;124m\"\u001b[39m)\n\u001b[1;32m   2601\u001b[0m \u001b[38;5;28;01melse\u001b[39;00m:\n\u001b[1;32m   2602\u001b[0m     fp \u001b[38;5;241m=\u001b[39m cast(IO[\u001b[38;5;28mbytes\u001b[39m], fp)\n",
      "\u001b[0;31mFileNotFoundError\u001b[0m: [Errno 2] No such file or directory: '/Users/johngugliotti/Documents/dev/kresearch/dhs/lexicon-transform/scripts/png_1/dhslexicon_page_85.png'"
     ]
    }
   ],
   "source": [
    "from pdf2image import convert_from_path\n",
    "images = convert_from_path('../18_0116_MGMT_DHS-Lexicon.pdf') \n"
   ]
  },
  {
   "cell_type": "code",
   "execution_count": 6,
   "id": "e4eb8f07-87b5-4fbd-8df1-f658baf4240f",
   "metadata": {},
   "outputs": [],
   "source": [
    "\n",
    "for i , image in enumerate(images):\n",
    "    if i < 85: continue\n",
    "    elif 80 <= i and i <= 100: \n",
    "    \timage.save(f\"../png_1/dhslexicon_page_{i}.png\",\"PNG\")\n",
    "    else:\n",
    "        break"
   ]
  },
  {
   "cell_type": "code",
   "execution_count": 8,
   "id": "3289a286-2fd0-4f50-b431-bb99987b4a82",
   "metadata": {},
   "outputs": [],
   "source": [
    "import pytesseract\n",
    "from PIL import Image\n",
    "import os\n",
    "# Make sure Tesseract is installed and in your system path\n",
    "pytesseract.pytesseract.tesseract_cmd = '/opt/homebrew/bin/tesseract' \n",
    "\n",
    "image_path = '../png_1/'\n",
    "text_path = '../txt_1/'\n",
    "for fn in os.listdir(image_path):\n",
    "    # open the image\n",
    "    if not fn[-3:].lower() == 'png': continue\n",
    "    image = Image.open(f'{image_path}{fn}')\n",
    "    # extract text from the image\n",
    "    text = pytesseract.image_to_string(image)\n",
    "    open(f'{text_path}{fn.replace(\".png\",\".txt\")}','w').write(text)"
   ]
  },
  {
   "cell_type": "code",
   "execution_count": null,
   "id": "7dce3c34-7d76-41e1-877f-6cfe96d52cb5",
   "metadata": {},
   "outputs": [],
   "source": [
    "import pandas"
   ]
  },
  {
   "cell_type": "code",
   "execution_count": null,
   "id": "85cd8962-0a44-468f-89be-3c3e3bb69563",
   "metadata": {},
   "outputs": [],
   "source": [
    "!pip install numpy==1.26.4  pyyaml  ## python 2.2 causes inconsistencies \n",
    "!pip install pdf2image\n",
    "!pip install pytesseract\n",
    "### brew install poppler\n",
    "### brew install tesseract  https://formulae.brew.sh/formula/tesseract"
   ]
  },
  {
   "cell_type": "code",
   "execution_count": 2,
   "id": "92dec741-fdd1-4af0-842d-bb660ee6e15f",
   "metadata": {},
   "outputs": [
    {
     "name": "stdout",
     "output_type": "stream",
     "text": [
      "Collecting pdf2image\n",
      "  Using cached pdf2image-1.17.0-py3-none-any.whl.metadata (6.2 kB)\n",
      "Requirement already satisfied: pillow in /Users/johngugliotti/opt/anaconda3/envs/py311/lib/python3.11/site-packages (from pdf2image) (11.0.0)\n",
      "Using cached pdf2image-1.17.0-py3-none-any.whl (11 kB)\n",
      "Installing collected packages: pdf2image\n",
      "Successfully installed pdf2image-1.17.0\n"
     ]
    }
   ],
   "source": [
    "!pip install pdf2image"
   ]
  },
  {
   "cell_type": "code",
   "execution_count": null,
   "id": "2abd16fe-82ea-48e5-b724-a90d66114e04",
   "metadata": {},
   "outputs": [],
   "source": []
  }
 ],
 "metadata": {
  "kernelspec": {
   "display_name": "Python 3 (ipykernel)",
   "language": "python",
   "name": "python3"
  },
  "language_info": {
   "codemirror_mode": {
    "name": "ipython",
    "version": 3
   },
   "file_extension": ".py",
   "mimetype": "text/x-python",
   "name": "python",
   "nbconvert_exporter": "python",
   "pygments_lexer": "ipython3",
   "version": "3.11.10"
  }
 },
 "nbformat": 4,
 "nbformat_minor": 5
}
