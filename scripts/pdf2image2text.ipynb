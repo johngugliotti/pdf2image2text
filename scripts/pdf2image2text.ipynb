{
 "cells": [
  {
   "cell_type": "code",
   "execution_count": null,
   "id": "93087886-d8d4-4a19-a1f5-033238cdb2ba",
   "metadata": {},
   "outputs": [],
   "source": [
    "from pdf2image import convert_from_path\n",
    "images = convert_from_path('../18_0116_MGMT_DHS-Lexicon.pdf') \n"
   ]
  },
  {
   "cell_type": "code",
   "execution_count": null,
   "id": "e4eb8f07-87b5-4fbd-8df1-f658baf4240f",
   "metadata": {},
   "outputs": [],
   "source": [
    "\n",
    "for i , image in enumerate(images):\n",
    "    if i < 85: continue\n",
    "    elif 80 <= i and i <= 100: \n",
    "    \timage.save(f\"../png_1/dhslexicon_page_{i}.png\",\"PNG\")\n",
    "    else:\n",
    "        break"
   ]
  },
  {
   "cell_type": "code",
   "execution_count": null,
   "id": "3289a286-2fd0-4f50-b431-bb99987b4a82",
   "metadata": {},
   "outputs": [],
   "source": [
    "import pytesseract\n",
    "from PIL import Image\n",
    "import os\n",
    "# Make sure Tesseract is installed and in your system path\n",
    "pytesseract.pytesseract.tesseract_cmd = '/opt/homebrew/bin/tesseract' \n",
    "\n",
    "image_path = '../png_1/'\n",
    "text_path = '../txt_1/'\n",
    "for fn in os.listdir(image_path):\n",
    "    # open the image\n",
    "    if not fn[-3:].lower() == 'png': continue\n",
    "    image = Image.open(f'{image_path}{fn}')\n",
    "    # extract text from the image\n",
    "    text = pytesseract.image_to_string(image)\n",
    "    open(f'{text_path}{fn.replace(\".png\",\".txt\")}','w').write(text)"
   ]
  },
  {
   "cell_type": "raw",
   "id": "d659645b-5ee2-4fa5-a17e-90d3e1c60b27",
   "metadata": {},
   "source": [
    " \n",
    "!pip install pdf2image\n",
    "!pip install pytesseract\n",
    "---------------------\n",
    "--- MAC-Specific ---- \n",
    "---------------------\n",
    "### brew install poppler    https://formulae.brew.sh/formula/poppler\n",
    "### brew install tesseract  https://formulae.brew.sh/formula/tesseract\n",
    "--------------------------------\n",
    "------ Windows -----------------\n",
    "--------------------------------\n",
    "\n",
    "Poppler:\n",
    "-------\n",
    "Windows users will have to build or download poppler for Windows. \n",
    "I recommend @oschwartz10612 version which is the most up-to-date. \n",
    "You will then have to add the bin/ folder to PATH \n",
    "Alternatively: use poppler_path = \"C:\\path\\to\\poppler-xx\\bin\" as an argument in convert_from_path.\n",
    "\n",
    "Tesseract:\n",
    "---------\n",
    "Download tesseract exe from https://github.com/UB-Mannheim/tesseract/wiki.\n",
    "\n",
    "Install this exe in C:\\Program Files (x86)\\Tesseract-OCR\n",
    "\n",
    "Open virtual machine command prompt in windows or anaconda prompt.\n",
    "\n",
    "Run pip install pytesseract\n",
    "\n",
    "To test if tesseract is installed type in python prompt:\n",
    "\n",
    "import pytesseract\n",
    "\n",
    "print(pytesseract)\n",
    "\n",
    "\n",
    "https://stackoverflow.com/questions/46140485/tesseract-installation-in-windows"
   ]
  }
 ],
 "metadata": {
  "kernelspec": {
   "display_name": "Python 3 (ipykernel)",
   "language": "python",
   "name": "python3"
  },
  "language_info": {
   "codemirror_mode": {
    "name": "ipython",
    "version": 3
   },
   "file_extension": ".py",
   "mimetype": "text/x-python",
   "name": "python",
   "nbconvert_exporter": "python",
   "pygments_lexer": "ipython3",
   "version": "3.9.7"
  }
 },
 "nbformat": 4,
 "nbformat_minor": 5
}
