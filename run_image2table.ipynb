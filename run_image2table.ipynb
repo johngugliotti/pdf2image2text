{
 "cells": [
  {
   "cell_type": "code",
   "execution_count": 2,
   "id": "3b00129b-b779-4b45-aa4b-e477e4ff853c",
   "metadata": {
    "tags": []
   },
   "outputs": [],
   "source": [
    "##!pip install -q img2table\n",
    "import img2table\n",
    "from img2table.document import Image\n",
    "import os\n",
    "\n",
    "if False:\n",
    "    for f in os.listdir('pngs/'):\n",
    "\n",
    "        # Instantiation of the image\n",
    "        img = Image(src=f\"pngs/{f}\")\n",
    "\n",
    "        # Table identification\n",
    "        img_tables = img.extract_tables()\n",
    "\n",
    "        # Result of table identification\n",
    "        img_tables"
   ]
  },
  {
   "cell_type": "code",
   "execution_count": null,
   "id": "f6b6a622-be21-4618-9078-4a81d23a7ed8",
   "metadata": {
    "tags": []
   },
   "outputs": [],
   "source": []
  },
  {
   "cell_type": "code",
   "execution_count": null,
   "id": "e035be68-a012-4e7b-bf12-af5936334a41",
   "metadata": {
    "tags": []
   },
   "outputs": [],
   "source": [
    "read= 0 \n",
    "if False: ## no data is extracted\n",
    "    for f in os.listdir('pngs/'):\n",
    "        # Instantiation of the image\n",
    "        read += 1\n",
    "        img = Image(src=f\"pngs/{f}\")\n",
    "        # Table identification\n",
    "        img_tables = img.extract_tables()\n",
    "        for i in range(len(img_tables)):\n",
    "            if not img_tables[i].df.shape[0] * img_tables[i].df.shape[1] == img_tables[i].df.isna().sum().sum():\n",
    "                print(img_tables[i].df.isna().sum().sum()) \n",
    "                print(i)\n",
    "        if read % 10 == 0 : print(read)"
   ]
  },
  {
   "cell_type": "code",
   "execution_count": 13,
   "id": "308af0e7-f11c-4ebe-9a38-da2e0a8e2fa4",
   "metadata": {
    "tags": []
   },
   "outputs": [
    {
     "name": "stdout",
     "output_type": "stream",
     "text": [
      "started\n"
     ]
    }
   ],
   "source": [
    "import cv2, json\n",
    "exceptions = open('exceptions.txt','w')\n",
    "grid = json.loads(open('grid.json','r').read()) \n",
    "\n",
    "iteration = 0 \n",
    "for f in os.listdir('pngs/'):\n",
    "    iteration += 1\n",
    "    if iteration < 550: continue\n",
    "    if iteration == 551: print('started')\n",
    "\n",
    "    \n",
    "\n",
    "    ##f = \"dhslexicon_page_122.png\"\n",
    "    F = f.split(\".\")\n",
    "    \n",
    "    \n",
    "    # Read the image\n",
    "    try:\n",
    "        image = cv2.imread(f\"pngs/{f}\")\n",
    "        img = Image(src=f\"pngs/{f}\")\n",
    "    except:\n",
    "        exceptions.write(f\"pngs/{f}\")\n",
    "        exceptions.write(\"\\n\")        \n",
    "        \n",
    "        \n",
    "    \n",
    "    # Table identification\n",
    "    img_tables = img.extract_tables()\n",
    "    if len(img_tables) == 1:\n",
    "        ## print(dir(img_tables[0]))\n",
    "        #print(img_tables[0].bbox) \n",
    "        box = img_tables[0].bbox\n",
    "    # Check if the image is loaded successfully\n",
    "    if image is None:\n",
    "        print(\"Error: Image not found or could not be loaded.\")\n",
    "\n",
    "\n",
    "    ##print('total width: ',  box.x2 - box.x1) \n",
    "    offset = box.x1\n",
    "    \n",
    "    h = box.y2 - box.y1\n",
    "    \n",
    "    for i in grid:\n",
    "        L = offset+ grid.get(i).get('x1')\n",
    "        R = offset + grid.get(i).get('x2')\n",
    "        \n",
    "        x = box.x1\n",
    "        y = box.y1\n",
    "        roi = image[y:y+h, L:R] \n",
    "        fo = f\"slices/{F[0]}_{i}.jpg\"\n",
    "        try:\n",
    "            cv2.imwrite(fo, roi)\n",
    "        except:\n",
    "            exceptions.write(f\"pngs/{f}\")\n",
    "            exceptions.write(\"\\n\")   \n",
    "exceptions.close()"
   ]
  },
  {
   "cell_type": "code",
   "execution_count": 14,
   "id": "0008583d-4fdc-43b2-86c5-a0243d441cb8",
   "metadata": {
    "tags": []
   },
   "outputs": [
    {
     "name": "stdout",
     "output_type": "stream",
     "text": [
      "we're done here 746\n"
     ]
    }
   ],
   "source": [
    "print(\"we're done here\", iteration)"
   ]
  },
  {
   "cell_type": "code",
   "execution_count": null,
   "id": "e33ccd51-ae74-4a8c-b0c0-53da515dfea3",
   "metadata": {
    "tags": []
   },
   "outputs": [],
   "source": [
    "w = box.x2 - box.x1\n",
    "h = box.y2 - box.y1\n",
    "\n",
    "print(w) \n",
    "x = box.x1\n",
    "y = box.y1\n",
    "roi = image[y:y+h, x:x+w] \n",
    "cv2.imwrite('test.jpg', roi) \n",
    "\n"
   ]
  },
  {
   "cell_type": "code",
   "execution_count": null,
   "id": "dad64147-3f88-4b65-b821-c20e664ceede",
   "metadata": {
    "tags": []
   },
   "outputs": [],
   "source": [
    "print(grid.get('0')) "
   ]
  },
  {
   "cell_type": "code",
   "execution_count": 19,
   "id": "bdcff0f2-662a-46bf-bfd0-5590408b8698",
   "metadata": {
    "tags": []
   },
   "outputs": [
    {
     "name": "stdout",
     "output_type": "stream",
     "text": [
      "8909\n",
      "11.89452603471295\n",
      "12.193591455273697\n",
      "  8   8 224 exceptions.txt\n"
     ]
    }
   ],
   "source": [
    "## accounting check\n",
    "!ls -la slices/ |  wc -l\n",
    "#8909\n",
    "\n",
    "print(8909 / 749) \n",
    "print(( 8909 + 224)  / 749) \n",
    "#11.89452603471295\n",
    "\n",
    "!wc exceptions.txt"
   ]
  },
  {
   "cell_type": "code",
   "execution_count": null,
   "id": "d489ccd8-d44c-4dd1-bce6-1b6534a57bdb",
   "metadata": {
    "tags": []
   },
   "outputs": [],
   "source": [
    "for i in grid:\n",
    "    print(grid.get(i)) "
   ]
  },
  {
   "cell_type": "code",
   "execution_count": null,
   "id": "06e1ec32-7f60-4da5-a018-58b6cf13dc81",
   "metadata": {},
   "outputs": [],
   "source": [
    "x = box.x1\n",
    "y = box.y1\n",
    "roi = image[y:y+h, x:x+w] \n",
    "cv2.imwrite('test.jpg', roi) "
   ]
  }
 ],
 "metadata": {
  "kernelspec": {
   "display_name": "conda_pytorch_p310",
   "language": "python",
   "name": "conda_pytorch_p310"
  },
  "language_info": {
   "codemirror_mode": {
    "name": "ipython",
    "version": 3
   },
   "file_extension": ".py",
   "mimetype": "text/x-python",
   "name": "python",
   "nbconvert_exporter": "python",
   "pygments_lexer": "ipython3",
   "version": "3.10.14"
  }
 },
 "nbformat": 4,
 "nbformat_minor": 5
}
